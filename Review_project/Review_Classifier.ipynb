{
 "cells": [
  {
   "cell_type": "code",
   "execution_count": 1,
   "id": "827644b8",
   "metadata": {},
   "outputs": [],
   "source": [
    "import pandas as pd\n",
    "df1=pd.read_csv(\"reviews.csv\")\n",
    "df=df1.head(5000)"
   ]
  },
  {
   "cell_type": "code",
   "execution_count": 2,
   "id": "e6d63926",
   "metadata": {},
   "outputs": [
    {
     "data": {
      "text/html": [
       "<div>\n",
       "<style scoped>\n",
       "    .dataframe tbody tr th:only-of-type {\n",
       "        vertical-align: middle;\n",
       "    }\n",
       "\n",
       "    .dataframe tbody tr th {\n",
       "        vertical-align: top;\n",
       "    }\n",
       "\n",
       "    .dataframe thead th {\n",
       "        text-align: right;\n",
       "    }\n",
       "</style>\n",
       "<table border=\"1\" class=\"dataframe\">\n",
       "  <thead>\n",
       "    <tr style=\"text-align: right;\">\n",
       "      <th></th>\n",
       "      <th>Review</th>\n",
       "      <th>Rating</th>\n",
       "    </tr>\n",
       "  </thead>\n",
       "  <tbody>\n",
       "    <tr>\n",
       "      <th>0</th>\n",
       "      <td>Great music service, the audio is high quality...</td>\n",
       "      <td>5</td>\n",
       "    </tr>\n",
       "    <tr>\n",
       "      <th>1</th>\n",
       "      <td>Please ignore previous negative rating. This a...</td>\n",
       "      <td>5</td>\n",
       "    </tr>\n",
       "    <tr>\n",
       "      <th>2</th>\n",
       "      <td>This pop-up \"Get the best Spotify experience o...</td>\n",
       "      <td>4</td>\n",
       "    </tr>\n",
       "    <tr>\n",
       "      <th>3</th>\n",
       "      <td>Really buggy and terrible to use as of recently</td>\n",
       "      <td>1</td>\n",
       "    </tr>\n",
       "    <tr>\n",
       "      <th>4</th>\n",
       "      <td>Dear Spotify why do I get songs that I didn't ...</td>\n",
       "      <td>1</td>\n",
       "    </tr>\n",
       "    <tr>\n",
       "      <th>...</th>\n",
       "      <td>...</td>\n",
       "      <td>...</td>\n",
       "    </tr>\n",
       "    <tr>\n",
       "      <th>4995</th>\n",
       "      <td>Great app, makes life happier.</td>\n",
       "      <td>5</td>\n",
       "    </tr>\n",
       "    <tr>\n",
       "      <th>4996</th>\n",
       "      <td>Good quality and consistent play format..my go...</td>\n",
       "      <td>5</td>\n",
       "    </tr>\n",
       "    <tr>\n",
       "      <th>4997</th>\n",
       "      <td>If I click to play music on PC, it shouldn't s...</td>\n",
       "      <td>3</td>\n",
       "    </tr>\n",
       "    <tr>\n",
       "      <th>4998</th>\n",
       "      <td>I love it until some@$$ hacked my account and ...</td>\n",
       "      <td>4</td>\n",
       "    </tr>\n",
       "    <tr>\n",
       "      <th>4999</th>\n",
       "      <td>Song recommendations were good at first, now t...</td>\n",
       "      <td>2</td>\n",
       "    </tr>\n",
       "  </tbody>\n",
       "</table>\n",
       "<p>5000 rows × 2 columns</p>\n",
       "</div>"
      ],
      "text/plain": [
       "                                                 Review  Rating\n",
       "0     Great music service, the audio is high quality...       5\n",
       "1     Please ignore previous negative rating. This a...       5\n",
       "2     This pop-up \"Get the best Spotify experience o...       4\n",
       "3       Really buggy and terrible to use as of recently       1\n",
       "4     Dear Spotify why do I get songs that I didn't ...       1\n",
       "...                                                 ...     ...\n",
       "4995                     Great app, makes life happier.       5\n",
       "4996  Good quality and consistent play format..my go...       5\n",
       "4997  If I click to play music on PC, it shouldn't s...       3\n",
       "4998  I love it until some@$$ hacked my account and ...       4\n",
       "4999  Song recommendations were good at first, now t...       2\n",
       "\n",
       "[5000 rows x 2 columns]"
      ]
     },
     "execution_count": 2,
     "metadata": {},
     "output_type": "execute_result"
    }
   ],
   "source": [
    "df=df.drop(\"Time_submitted\",axis=1)\n",
    "df=df.drop('Total_thumbsup',axis=1)\n",
    "df=df.drop('Reply',axis=1)\n",
    "df"
   ]
  },
  {
   "cell_type": "code",
   "execution_count": 3,
   "id": "608d0001",
   "metadata": {},
   "outputs": [],
   "source": [
    "import re\n",
    "import string\n",
    "\n",
    "def urlRemove(review):\n",
    "    review=re.sub(r\"(?i)\\b((?:https?://|www\\d{0,3}[.]|[a-z0-9.\\-]+[.][a-z]{2,4}/)(?:[^\\s()<>]+|\\(([^\\s()<>]+|(\\([^\\s()<>]+\\)))*\\))+(?:\\(([^\\s()<>]+|(\\([^\\s()<>]+\\)))*\\)|[^\\s`!()\\[\\]{};:'\\\".,<>?«»“”‘’]))\",'',review)\n",
    "    review=review.strip().replace('\\n', '')\n",
    "    review=\"\".join([i for i in review if i not in string.punctuation])\n",
    "    review=re.sub(r'\\s+', ' ', review)\n",
    "    return review.lower()"
   ]
  },
  {
   "cell_type": "code",
   "execution_count": 4,
   "id": "6423d496",
   "metadata": {},
   "outputs": [],
   "source": [
    "df['Review1']=df['Review'].apply(lambda x: urlRemove(x))"
   ]
  },
  {
   "cell_type": "code",
   "execution_count": 5,
   "id": "5cf036d6",
   "metadata": {},
   "outputs": [],
   "source": [
    "#lemmatization\n",
    "\n",
    "import nltk\n",
    "from nltk.stem import WordNetLemmatizer\n",
    "\n",
    "def lemmatizeReview(review):\n",
    "    tokens=re.split(' ',review)\n",
    "    stopwords=nltk.corpus.stopwords.words('english')\n",
    "    tokens= [i for i in tokens if i not in stopwords]\n",
    "    lemmatizer=WordNetLemmatizer()\n",
    "    lemm_text = [lemmatizer.lemmatize(word) for word in tokens]\n",
    "    lemm_text=\" \".join(lemm_text)\n",
    "    return lemm_text"
   ]
  },
  {
   "cell_type": "code",
   "execution_count": 6,
   "id": "e0429bd8",
   "metadata": {},
   "outputs": [],
   "source": [
    "df['New_Review']=df['Review1'].apply(lambda x: lemmatizeReview(x))\n",
    "df=df.drop('Review',axis=1)\n",
    "df=df.drop('Review1',axis=1)"
   ]
  },
  {
   "cell_type": "code",
   "execution_count": 7,
   "id": "ef81ee52",
   "metadata": {},
   "outputs": [],
   "source": [
    "x=df['New_Review']\n",
    "y=df['Rating']"
   ]
  },
  {
   "cell_type": "code",
   "execution_count": 8,
   "id": "b0f911fc",
   "metadata": {},
   "outputs": [],
   "source": [
    "#splitting data into train and test sets\n",
    "from sklearn.model_selection import train_test_split\n",
    "\n",
    "x_train,x_test,y_train,y_test=train_test_split(x,y,test_size=0.1,random_state=32)"
   ]
  },
  {
   "cell_type": "code",
   "execution_count": 9,
   "id": "f4a95d9f",
   "metadata": {},
   "outputs": [],
   "source": [
    "from sklearn.feature_extraction.text import TfidfVectorizer\n",
    "\n",
    "tf_idf=TfidfVectorizer(ngram_range=(1,2))"
   ]
  },
  {
   "cell_type": "code",
   "execution_count": 10,
   "id": "eed1c98e",
   "metadata": {},
   "outputs": [],
   "source": [
    "x_train=tf_idf.fit_transform(x_train)\n",
    "x_test=tf_idf.transform(x_test)\n",
    "\n",
    "x_train=x_train.toarray()\n",
    "x_test=x_test.toarray()"
   ]
  },
  {
   "cell_type": "code",
   "execution_count": 11,
   "id": "e2deaf2d",
   "metadata": {},
   "outputs": [
    {
     "data": {
      "text/plain": [
       "GaussianNB()"
      ]
     },
     "execution_count": 11,
     "metadata": {},
     "output_type": "execute_result"
    }
   ],
   "source": [
    "from sklearn.naive_bayes import GaussianNB\n",
    "\n",
    "gnb=GaussianNB()\n",
    "gnb.fit(x_train,y_train)"
   ]
  },
  {
   "cell_type": "code",
   "execution_count": 12,
   "id": "3b8e6975",
   "metadata": {},
   "outputs": [],
   "source": [
    "y_pred=gnb.predict(x_test)"
   ]
  },
  {
   "cell_type": "code",
   "execution_count": 13,
   "id": "1a55dd3e",
   "metadata": {},
   "outputs": [
    {
     "data": {
      "text/plain": [
       "array([[ 84,  22,  21,  15,  28],\n",
       "       [ 19,   4,   6,   3,   2],\n",
       "       [ 17,   4,  11,   6,  31],\n",
       "       [ 12,   2,   7,  14,  52],\n",
       "       [  9,   3,   9,  16, 103]], dtype=int64)"
      ]
     },
     "execution_count": 13,
     "metadata": {},
     "output_type": "execute_result"
    }
   ],
   "source": [
    "from sklearn.metrics import confusion_matrix\n",
    "con=confusion_matrix(y_pred,y_test)\n",
    "con"
   ]
  },
  {
   "cell_type": "code",
   "execution_count": 14,
   "id": "800475ad",
   "metadata": {},
   "outputs": [
    {
     "name": "stdout",
     "output_type": "stream",
     "text": [
      "Accuracy Score = 43.20\n"
     ]
    }
   ],
   "source": [
    "from sklearn.metrics import accuracy_score\n",
    "acc=accuracy_score(y_pred,y_test)\n",
    "print('Accuracy Score = %0.2F'%(acc*100))"
   ]
  },
  {
   "cell_type": "code",
   "execution_count": 15,
   "id": "8affc583",
   "metadata": {},
   "outputs": [
    {
     "data": {
      "text/plain": [
       "LogisticRegression()"
      ]
     },
     "execution_count": 15,
     "metadata": {},
     "output_type": "execute_result"
    }
   ],
   "source": [
    "from sklearn.linear_model import LogisticRegression\n",
    "\n",
    "lr=LogisticRegression()\n",
    "lr.fit(x_train,y_train)"
   ]
  },
  {
   "cell_type": "code",
   "execution_count": 16,
   "id": "73f92c3d",
   "metadata": {},
   "outputs": [],
   "source": [
    "y_pred=lr.predict(x_test)"
   ]
  },
  {
   "cell_type": "code",
   "execution_count": 17,
   "id": "1f37ee7d",
   "metadata": {},
   "outputs": [
    {
     "data": {
      "text/plain": [
       "array([[119,  27,  36,  15,  11],\n",
       "       [  2,   1,   1,   0,   0],\n",
       "       [  1,   2,   2,   0,   0],\n",
       "       [  3,   0,   7,   8,   4],\n",
       "       [ 16,   5,   8,  31, 201]], dtype=int64)"
      ]
     },
     "execution_count": 17,
     "metadata": {},
     "output_type": "execute_result"
    }
   ],
   "source": [
    "con=confusion_matrix(y_pred,y_test)\n",
    "con"
   ]
  },
  {
   "cell_type": "code",
   "execution_count": 18,
   "id": "14c83021",
   "metadata": {},
   "outputs": [
    {
     "name": "stdout",
     "output_type": "stream",
     "text": [
      "Accuracy Score = 66.20\n"
     ]
    }
   ],
   "source": [
    "acc=accuracy_score(y_pred,y_test)\n",
    "print('Accuracy Score = %0.2F'%(acc*100))"
   ]
  }
 ],
 "metadata": {
  "kernelspec": {
   "display_name": "Python 3 (ipykernel)",
   "language": "python",
   "name": "python3"
  },
  "language_info": {
   "codemirror_mode": {
    "name": "ipython",
    "version": 3
   },
   "file_extension": ".py",
   "mimetype": "text/x-python",
   "name": "python",
   "nbconvert_exporter": "python",
   "pygments_lexer": "ipython3",
   "version": "3.9.12"
  }
 },
 "nbformat": 4,
 "nbformat_minor": 5
}
